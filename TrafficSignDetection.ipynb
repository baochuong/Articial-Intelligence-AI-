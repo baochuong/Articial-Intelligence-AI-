{
  "nbformat": 4,
  "nbformat_minor": 0,
  "metadata": {
    "colab": {
      "provenance": [],
      "gpuType": "T4",
      "authorship_tag": "ABX9TyOv0Gkl1rIBbOeqEoqnrLGz",
      "include_colab_link": true
    },
    "kernelspec": {
      "name": "python3",
      "display_name": "Python 3"
    },
    "language_info": {
      "name": "python"
    },
    "accelerator": "GPU",
    "gpuClass": "standard"
  },
  "cells": [
    {
      "cell_type": "markdown",
      "metadata": {
        "id": "view-in-github",
        "colab_type": "text"
      },
      "source": [
        "<a href=\"https://colab.research.google.com/github/baochuong/Articial-Intelligence-AI-/blob/main/TrafficSignDetection.ipynb\" target=\"_parent\"><img src=\"https://colab.research.google.com/assets/colab-badge.svg\" alt=\"Open In Colab\"/></a>"
      ]
    },
    {
      "cell_type": "code",
      "execution_count": 1,
      "metadata": {
        "colab": {
          "base_uri": "https://localhost:8080/"
        },
        "id": "YYN_Dbrtf-3Q",
        "outputId": "ec34a7a6-383e-423c-f8bb-162b6df9892c"
      },
      "outputs": [
        {
          "output_type": "stream",
          "name": "stdout",
          "text": [
            "Mounted at /content/drive\n"
          ]
        }
      ],
      "source": [
        "from google.colab import drive\n",
        "drive.mount('/content/drive')"
      ]
    },
    {
      "cell_type": "code",
      "source": [
        "from os import listdir\n",
        "from numpy import asarray\n",
        "from numpy import save\n",
        "from keras.utils.image_utils import img_to_array\n",
        "from keras.utils import load_img"
      ],
      "metadata": {
        "id": "R3Sy4EGogm6V"
      },
      "execution_count": 2,
      "outputs": []
    },
    {
      "cell_type": "code",
      "source": [
        "folder = '/content/drive/MyDrive/AI/train/'\n",
        "photos, labels = list(), list()\n",
        "for file in listdir(folder):\n",
        "  output = 0.0\n",
        "  if file.startswith('ancoi'):\n",
        "    output = 1.0  #'ấn còi'\n",
        "  if file.startswith('camdithang'):\n",
        "    output = 2.0  #'cấm đi thẳng'\n",
        "  if file.startswith('camxeday'):\n",
        "    output = 3.0  #'cấm xe đẩy'\n",
        "  if file.startswith('dicham'):\n",
        "    output = 4.0  #'đi chậm'\n",
        "  if file.startswith('duongdienphiatren'):\n",
        "    output = 5.0  #'đường điện phía trên'\n",
        "  if file.startswith('duongdoi'):\n",
        "    output = 6.0  #'đường đôi'\n",
        "  if file.startswith('giaovoiduongkouutien'):\n",
        "    output = 7.0  #'giao với đường không ưu tiên'\n",
        "  if file.startswith('hetcamvuot'):\n",
        "    output = 8.0  #'hết cấm vượt'\n",
        "  if file.startswith('nguyhiem'):\n",
        "    output = 9.0  #'nguy hiểm'\n",
        "  if file.startswith('vongxuyen'):\n",
        "    output = 10.0  #'vòng xuyến'\n",
        "  photo = load_img (folder+file, target_size= (64,64))\n",
        "  photo = img_to_array (photo)\n",
        "  photos.append(photo)\n",
        "  labels.append(output)\n",
        "photos = asarray(photos)\n",
        "labels = asarray(labels)\n",
        "save('/content/drive/MyDrive/AI/train_photo.npy', photos)\n",
        "save('/content/drive/MyDrive/AI/train_label.npy', labels)"
      ],
      "metadata": {
        "id": "hLeFo664gxpU"
      },
      "execution_count": 3,
      "outputs": []
    },
    {
      "cell_type": "code",
      "source": [
        "import numpy as np\n",
        "import pandas as pd\n",
        "import matplotlib.pyplot as plt\n",
        "import seaborn as sns"
      ],
      "metadata": {
        "id": "SpafAamcjO-j"
      },
      "execution_count": 4,
      "outputs": []
    },
    {
      "cell_type": "code",
      "source": [
        "#load lại giá trị mới \n",
        "photo = np.load('/content/drive/MyDrive/AI/train_photo.npy')\n",
        "label = np.load('/content/drive/MyDrive/AI/train_label.npy')"
      ],
      "metadata": {
        "id": "HSHE2NXEkKA4"
      },
      "execution_count": 5,
      "outputs": []
    },
    {
      "cell_type": "code",
      "source": [
        "split_index = int(0.2*len(photo))\n",
        "test_X,test_Y = photo[:split_index],label[:split_index]\n",
        "train_X, train_Y = photo[split_index:],label[split_index:]"
      ],
      "metadata": {
        "id": "peh0VdC0kUCs"
      },
      "execution_count": 6,
      "outputs": []
    },
    {
      "cell_type": "code",
      "source": [
        "print('Train:',train_X.shape)\n",
        "print('Test:',test_X.shape)"
      ],
      "metadata": {
        "colab": {
          "base_uri": "https://localhost:8080/"
        },
        "id": "31Nz9sFUkW_4",
        "outputId": "4e45efa2-8734-4262-c124-323fc076cd9f"
      },
      "execution_count": 7,
      "outputs": [
        {
          "output_type": "stream",
          "name": "stdout",
          "text": [
            "Train: (400, 64, 64, 3)\n",
            "Test: (100, 64, 64, 3)\n"
          ]
        }
      ]
    },
    {
      "cell_type": "code",
      "source": [
        "train_X = train_X.reshape((400,64,64,3))\n",
        "train_X = train_X.astype('float32')/255\n",
        "test_X = test_X.reshape((100,64,64,3))\n",
        "test_X = test_X.astype('float32')/255"
      ],
      "metadata": {
        "id": "CeAHRG4EkZ2e"
      },
      "execution_count": 8,
      "outputs": []
    },
    {
      "cell_type": "code",
      "source": [
        "from keras.utils import to_categorical\n",
        "\n",
        "train_Y = to_categorical(train_Y,11)\n",
        "test_Y = to_categorical(test_Y,11)"
      ],
      "metadata": {
        "id": "t7OSZna3kcnH"
      },
      "execution_count": 9,
      "outputs": []
    },
    {
      "cell_type": "code",
      "source": [
        "from keras.models import Sequential\n",
        "from keras.models import Sequential, Model\n",
        "from keras.layers import Dense, Flatten, Dropout, Conv2D, MaxPooling2D, Normalization\n",
        "from keras.optimizers import Adam\n",
        "from keras.layers import LeakyReLU"
      ],
      "metadata": {
        "id": "pKqBvHuBku4M"
      },
      "execution_count": 10,
      "outputs": []
    },
    {
      "cell_type": "code",
      "source": [
        "batch_size = 10     \n",
        "epochs = 100        # số lần học\n",
        "classes = 11"
      ],
      "metadata": {
        "id": "3142BIhNk8yX"
      },
      "execution_count": 11,
      "outputs": []
    },
    {
      "cell_type": "code",
      "source": [
        "model = Sequential()\n",
        "model.add(Conv2D(32, kernel_size= (3,3), activation= 'linear', input_shape= (64,64,3), padding= 'same'))\n",
        "model.add(LeakyReLU(alpha= 0.1))\n",
        "model.add(MaxPooling2D((2,2), padding= 'same'))\n",
        "\n",
        "model.add(Conv2D(64,(3,3), activation= 'linear', padding= 'same'))\n",
        "model.add(LeakyReLU(alpha= 0.1))\n",
        "model.add(MaxPooling2D((2,2), padding= 'same'))\n",
        "\n",
        "model.add(Conv2D(128,(3,3), activation= 'linear', padding= 'same'))\n",
        "model.add(LeakyReLU(alpha= 0.1))\n",
        "model.add(MaxPooling2D((2,2), padding= 'same'))\n",
        "\n",
        "model.add(Flatten())\n",
        "model.add(Dense(128, activation= 'linear'))\n",
        "model.add(LeakyReLU(alpha= 0.1))\n",
        "model.add(Dense(classes, activation= 'softmax'))\n",
        "model.summary()"
      ],
      "metadata": {
        "colab": {
          "base_uri": "https://localhost:8080/"
        },
        "id": "3u4sh2sKlL2O",
        "outputId": "711b805c-420a-4288-978d-beecfb87ae32"
      },
      "execution_count": 12,
      "outputs": [
        {
          "output_type": "stream",
          "name": "stdout",
          "text": [
            "Model: \"sequential\"\n",
            "_________________________________________________________________\n",
            " Layer (type)                Output Shape              Param #   \n",
            "=================================================================\n",
            " conv2d (Conv2D)             (None, 64, 64, 32)        896       \n",
            "                                                                 \n",
            " leaky_re_lu (LeakyReLU)     (None, 64, 64, 32)        0         \n",
            "                                                                 \n",
            " max_pooling2d (MaxPooling2D  (None, 32, 32, 32)       0         \n",
            " )                                                               \n",
            "                                                                 \n",
            " conv2d_1 (Conv2D)           (None, 32, 32, 64)        18496     \n",
            "                                                                 \n",
            " leaky_re_lu_1 (LeakyReLU)   (None, 32, 32, 64)        0         \n",
            "                                                                 \n",
            " max_pooling2d_1 (MaxPooling  (None, 16, 16, 64)       0         \n",
            " 2D)                                                             \n",
            "                                                                 \n",
            " conv2d_2 (Conv2D)           (None, 16, 16, 128)       73856     \n",
            "                                                                 \n",
            " leaky_re_lu_2 (LeakyReLU)   (None, 16, 16, 128)       0         \n",
            "                                                                 \n",
            " max_pooling2d_2 (MaxPooling  (None, 8, 8, 128)        0         \n",
            " 2D)                                                             \n",
            "                                                                 \n",
            " flatten (Flatten)           (None, 8192)              0         \n",
            "                                                                 \n",
            " dense (Dense)               (None, 128)               1048704   \n",
            "                                                                 \n",
            " leaky_re_lu_3 (LeakyReLU)   (None, 128)               0         \n",
            "                                                                 \n",
            " dense_1 (Dense)             (None, 11)                1419      \n",
            "                                                                 \n",
            "=================================================================\n",
            "Total params: 1,143,371\n",
            "Trainable params: 1,143,371\n",
            "Non-trainable params: 0\n",
            "_________________________________________________________________\n"
          ]
        }
      ]
    },
    {
      "cell_type": "code",
      "source": [
        "from keras.losses import categorical_crossentropy\n",
        "model.compile(optimizer= Adam(), loss= categorical_crossentropy, metrics= ['accuracy'])\n",
        "train = model.fit(train_X, train_Y, epochs= epochs, batch_size= batch_size, verbose= 1)"
      ],
      "metadata": {
        "colab": {
          "base_uri": "https://localhost:8080/"
        },
        "id": "3dGjj0zrlUYf",
        "outputId": "1b377f75-42ca-4847-a163-421e6c3522fd"
      },
      "execution_count": 13,
      "outputs": [
        {
          "output_type": "stream",
          "name": "stdout",
          "text": [
            "Epoch 1/100\n",
            "40/40 [==============================] - 9s 4ms/step - loss: 1.8379 - accuracy: 0.3250\n",
            "Epoch 2/100\n",
            "40/40 [==============================] - 0s 4ms/step - loss: 0.7917 - accuracy: 0.7275\n",
            "Epoch 3/100\n",
            "40/40 [==============================] - 0s 4ms/step - loss: 0.1923 - accuracy: 0.9575\n",
            "Epoch 4/100\n",
            "40/40 [==============================] - 0s 4ms/step - loss: 0.0886 - accuracy: 0.9700\n",
            "Epoch 5/100\n",
            "40/40 [==============================] - 0s 4ms/step - loss: 0.0267 - accuracy: 0.9950\n",
            "Epoch 6/100\n",
            "40/40 [==============================] - 0s 4ms/step - loss: 0.0246 - accuracy: 0.9925\n",
            "Epoch 7/100\n",
            "40/40 [==============================] - 0s 4ms/step - loss: 0.0026 - accuracy: 1.0000\n",
            "Epoch 8/100\n",
            "40/40 [==============================] - 0s 4ms/step - loss: 7.4602e-04 - accuracy: 1.0000\n",
            "Epoch 9/100\n",
            "40/40 [==============================] - 0s 4ms/step - loss: 4.9481e-04 - accuracy: 1.0000\n",
            "Epoch 10/100\n",
            "40/40 [==============================] - 0s 4ms/step - loss: 2.2262e-04 - accuracy: 1.0000\n",
            "Epoch 11/100\n",
            "40/40 [==============================] - 0s 4ms/step - loss: 1.7027e-04 - accuracy: 1.0000\n",
            "Epoch 12/100\n",
            "40/40 [==============================] - 0s 4ms/step - loss: 1.4028e-04 - accuracy: 1.0000\n",
            "Epoch 13/100\n",
            "40/40 [==============================] - 0s 4ms/step - loss: 1.1769e-04 - accuracy: 1.0000\n",
            "Epoch 14/100\n",
            "40/40 [==============================] - 0s 4ms/step - loss: 1.0214e-04 - accuracy: 1.0000\n",
            "Epoch 15/100\n",
            "40/40 [==============================] - 0s 4ms/step - loss: 9.1149e-05 - accuracy: 1.0000\n",
            "Epoch 16/100\n",
            "40/40 [==============================] - 0s 4ms/step - loss: 7.8664e-05 - accuracy: 1.0000\n",
            "Epoch 17/100\n",
            "40/40 [==============================] - 0s 4ms/step - loss: 7.1059e-05 - accuracy: 1.0000\n",
            "Epoch 18/100\n",
            "40/40 [==============================] - 0s 4ms/step - loss: 6.4092e-05 - accuracy: 1.0000\n",
            "Epoch 19/100\n",
            "40/40 [==============================] - 0s 4ms/step - loss: 5.8289e-05 - accuracy: 1.0000\n",
            "Epoch 20/100\n",
            "40/40 [==============================] - 0s 4ms/step - loss: 5.3032e-05 - accuracy: 1.0000\n",
            "Epoch 21/100\n",
            "40/40 [==============================] - 0s 4ms/step - loss: 4.8537e-05 - accuracy: 1.0000\n",
            "Epoch 22/100\n",
            "40/40 [==============================] - 0s 4ms/step - loss: 4.4798e-05 - accuracy: 1.0000\n",
            "Epoch 23/100\n",
            "40/40 [==============================] - 0s 4ms/step - loss: 4.1114e-05 - accuracy: 1.0000\n",
            "Epoch 24/100\n",
            "40/40 [==============================] - 0s 4ms/step - loss: 3.8177e-05 - accuracy: 1.0000\n",
            "Epoch 25/100\n",
            "40/40 [==============================] - 0s 4ms/step - loss: 3.5278e-05 - accuracy: 1.0000\n",
            "Epoch 26/100\n",
            "40/40 [==============================] - 0s 4ms/step - loss: 3.2927e-05 - accuracy: 1.0000\n",
            "Epoch 27/100\n",
            "40/40 [==============================] - 0s 4ms/step - loss: 3.0687e-05 - accuracy: 1.0000\n",
            "Epoch 28/100\n",
            "40/40 [==============================] - 0s 4ms/step - loss: 2.8656e-05 - accuracy: 1.0000\n",
            "Epoch 29/100\n",
            "40/40 [==============================] - 0s 4ms/step - loss: 2.7124e-05 - accuracy: 1.0000\n",
            "Epoch 30/100\n",
            "40/40 [==============================] - 0s 4ms/step - loss: 2.5276e-05 - accuracy: 1.0000\n",
            "Epoch 31/100\n",
            "40/40 [==============================] - 0s 4ms/step - loss: 2.4013e-05 - accuracy: 1.0000\n",
            "Epoch 32/100\n",
            "40/40 [==============================] - 0s 4ms/step - loss: 2.2766e-05 - accuracy: 1.0000\n",
            "Epoch 33/100\n",
            "40/40 [==============================] - 0s 4ms/step - loss: 2.1598e-05 - accuracy: 1.0000\n",
            "Epoch 34/100\n",
            "40/40 [==============================] - 0s 4ms/step - loss: 2.0452e-05 - accuracy: 1.0000\n",
            "Epoch 35/100\n",
            "40/40 [==============================] - 0s 4ms/step - loss: 1.9282e-05 - accuracy: 1.0000\n",
            "Epoch 36/100\n",
            "40/40 [==============================] - 0s 4ms/step - loss: 1.8457e-05 - accuracy: 1.0000\n",
            "Epoch 37/100\n",
            "40/40 [==============================] - 0s 4ms/step - loss: 1.7608e-05 - accuracy: 1.0000\n",
            "Epoch 38/100\n",
            "40/40 [==============================] - 0s 4ms/step - loss: 1.6600e-05 - accuracy: 1.0000\n",
            "Epoch 39/100\n",
            "40/40 [==============================] - 0s 4ms/step - loss: 1.5932e-05 - accuracy: 1.0000\n",
            "Epoch 40/100\n",
            "40/40 [==============================] - 0s 4ms/step - loss: 1.5050e-05 - accuracy: 1.0000\n",
            "Epoch 41/100\n",
            "40/40 [==============================] - 0s 4ms/step - loss: 1.4424e-05 - accuracy: 1.0000\n",
            "Epoch 42/100\n",
            "40/40 [==============================] - 0s 4ms/step - loss: 1.3731e-05 - accuracy: 1.0000\n",
            "Epoch 43/100\n",
            "40/40 [==============================] - 0s 4ms/step - loss: 1.3196e-05 - accuracy: 1.0000\n",
            "Epoch 44/100\n",
            "40/40 [==============================] - 0s 4ms/step - loss: 1.2582e-05 - accuracy: 1.0000\n",
            "Epoch 45/100\n",
            "40/40 [==============================] - 0s 4ms/step - loss: 1.2063e-05 - accuracy: 1.0000\n",
            "Epoch 46/100\n",
            "40/40 [==============================] - 0s 4ms/step - loss: 1.1496e-05 - accuracy: 1.0000\n",
            "Epoch 47/100\n",
            "40/40 [==============================] - 0s 4ms/step - loss: 1.0929e-05 - accuracy: 1.0000\n",
            "Epoch 48/100\n",
            "40/40 [==============================] - 0s 4ms/step - loss: 1.0527e-05 - accuracy: 1.0000\n",
            "Epoch 49/100\n",
            "40/40 [==============================] - 0s 4ms/step - loss: 1.0062e-05 - accuracy: 1.0000\n",
            "Epoch 50/100\n",
            "40/40 [==============================] - 0s 6ms/step - loss: 9.7030e-06 - accuracy: 1.0000\n",
            "Epoch 51/100\n",
            "40/40 [==============================] - 0s 5ms/step - loss: 9.3246e-06 - accuracy: 1.0000\n",
            "Epoch 52/100\n",
            "40/40 [==============================] - 0s 5ms/step - loss: 8.8920e-06 - accuracy: 1.0000\n",
            "Epoch 53/100\n",
            "40/40 [==============================] - 0s 5ms/step - loss: 8.5541e-06 - accuracy: 1.0000\n",
            "Epoch 54/100\n",
            "40/40 [==============================] - 0s 5ms/step - loss: 8.2207e-06 - accuracy: 1.0000\n",
            "Epoch 55/100\n",
            "40/40 [==============================] - 0s 5ms/step - loss: 7.9481e-06 - accuracy: 1.0000\n",
            "Epoch 56/100\n",
            "40/40 [==============================] - 0s 5ms/step - loss: 7.7890e-06 - accuracy: 1.0000\n",
            "Epoch 57/100\n",
            "40/40 [==============================] - 0s 5ms/step - loss: 7.3239e-06 - accuracy: 1.0000\n",
            "Epoch 58/100\n",
            "40/40 [==============================] - 0s 5ms/step - loss: 7.1138e-06 - accuracy: 1.0000\n",
            "Epoch 59/100\n",
            "40/40 [==============================] - 0s 5ms/step - loss: 6.8921e-06 - accuracy: 1.0000\n",
            "Epoch 60/100\n",
            "40/40 [==============================] - 0s 5ms/step - loss: 6.6195e-06 - accuracy: 1.0000\n",
            "Epoch 61/100\n",
            "40/40 [==============================] - 0s 5ms/step - loss: 6.3847e-06 - accuracy: 1.0000\n",
            "Epoch 62/100\n",
            "40/40 [==============================] - 0s 6ms/step - loss: 6.1609e-06 - accuracy: 1.0000\n",
            "Epoch 63/100\n",
            "40/40 [==============================] - 0s 4ms/step - loss: 5.9425e-06 - accuracy: 1.0000\n",
            "Epoch 64/100\n",
            "40/40 [==============================] - 0s 5ms/step - loss: 5.7416e-06 - accuracy: 1.0000\n",
            "Epoch 65/100\n",
            "40/40 [==============================] - 0s 5ms/step - loss: 5.5411e-06 - accuracy: 1.0000\n",
            "Epoch 66/100\n",
            "40/40 [==============================] - 0s 5ms/step - loss: 5.3718e-06 - accuracy: 1.0000\n",
            "Epoch 67/100\n",
            "40/40 [==============================] - 0s 5ms/step - loss: 5.1737e-06 - accuracy: 1.0000\n",
            "Epoch 68/100\n",
            "40/40 [==============================] - 0s 5ms/step - loss: 5.0351e-06 - accuracy: 1.0000\n",
            "Epoch 69/100\n",
            "40/40 [==============================] - 0s 5ms/step - loss: 4.8939e-06 - accuracy: 1.0000\n",
            "Epoch 70/100\n",
            "40/40 [==============================] - 0s 4ms/step - loss: 4.6975e-06 - accuracy: 1.0000\n",
            "Epoch 71/100\n",
            "40/40 [==============================] - 0s 4ms/step - loss: 4.5309e-06 - accuracy: 1.0000\n",
            "Epoch 72/100\n",
            "40/40 [==============================] - 0s 4ms/step - loss: 4.4141e-06 - accuracy: 1.0000\n",
            "Epoch 73/100\n",
            "40/40 [==============================] - 0s 4ms/step - loss: 4.3160e-06 - accuracy: 1.0000\n",
            "Epoch 74/100\n",
            "40/40 [==============================] - 0s 4ms/step - loss: 4.1542e-06 - accuracy: 1.0000\n",
            "Epoch 75/100\n",
            "40/40 [==============================] - 0s 4ms/step - loss: 4.0201e-06 - accuracy: 1.0000\n",
            "Epoch 76/100\n",
            "40/40 [==============================] - 0s 4ms/step - loss: 3.8932e-06 - accuracy: 1.0000\n",
            "Epoch 77/100\n",
            "40/40 [==============================] - 0s 4ms/step - loss: 3.7722e-06 - accuracy: 1.0000\n",
            "Epoch 78/100\n",
            "40/40 [==============================] - 0s 4ms/step - loss: 3.6676e-06 - accuracy: 1.0000\n",
            "Epoch 79/100\n",
            "40/40 [==============================] - 0s 4ms/step - loss: 3.5579e-06 - accuracy: 1.0000\n",
            "Epoch 80/100\n",
            "40/40 [==============================] - 0s 4ms/step - loss: 3.4671e-06 - accuracy: 1.0000\n",
            "Epoch 81/100\n",
            "40/40 [==============================] - 0s 4ms/step - loss: 3.3830e-06 - accuracy: 1.0000\n",
            "Epoch 82/100\n",
            "40/40 [==============================] - 0s 4ms/step - loss: 3.2477e-06 - accuracy: 1.0000\n",
            "Epoch 83/100\n",
            "40/40 [==============================] - 0s 4ms/step - loss: 3.1881e-06 - accuracy: 1.0000\n",
            "Epoch 84/100\n",
            "40/40 [==============================] - 0s 4ms/step - loss: 3.0758e-06 - accuracy: 1.0000\n",
            "Epoch 85/100\n",
            "40/40 [==============================] - 0s 4ms/step - loss: 2.9906e-06 - accuracy: 1.0000\n",
            "Epoch 86/100\n",
            "40/40 [==============================] - 0s 4ms/step - loss: 2.9044e-06 - accuracy: 1.0000\n",
            "Epoch 87/100\n",
            "40/40 [==============================] - 0s 4ms/step - loss: 2.8395e-06 - accuracy: 1.0000\n",
            "Epoch 88/100\n",
            "40/40 [==============================] - 0s 4ms/step - loss: 2.7393e-06 - accuracy: 1.0000\n",
            "Epoch 89/100\n",
            "40/40 [==============================] - 0s 4ms/step - loss: 2.6845e-06 - accuracy: 1.0000\n",
            "Epoch 90/100\n",
            "40/40 [==============================] - 0s 4ms/step - loss: 2.6315e-06 - accuracy: 1.0000\n",
            "Epoch 91/100\n",
            "40/40 [==============================] - 0s 4ms/step - loss: 2.5278e-06 - accuracy: 1.0000\n",
            "Epoch 92/100\n",
            "40/40 [==============================] - 0s 4ms/step - loss: 2.4500e-06 - accuracy: 1.0000\n",
            "Epoch 93/100\n",
            "40/40 [==============================] - 0s 4ms/step - loss: 2.3925e-06 - accuracy: 1.0000\n",
            "Epoch 94/100\n",
            "40/40 [==============================] - 0s 4ms/step - loss: 2.3227e-06 - accuracy: 1.0000\n",
            "Epoch 95/100\n",
            "40/40 [==============================] - 0s 4ms/step - loss: 2.2673e-06 - accuracy: 1.0000\n",
            "Epoch 96/100\n",
            "40/40 [==============================] - 0s 4ms/step - loss: 2.2110e-06 - accuracy: 1.0000\n",
            "Epoch 97/100\n",
            "40/40 [==============================] - 0s 4ms/step - loss: 2.1403e-06 - accuracy: 1.0000\n",
            "Epoch 98/100\n",
            "40/40 [==============================] - 0s 4ms/step - loss: 2.1004e-06 - accuracy: 1.0000\n",
            "Epoch 99/100\n",
            "40/40 [==============================] - 0s 4ms/step - loss: 2.0420e-06 - accuracy: 1.0000\n",
            "Epoch 100/100\n",
            "40/40 [==============================] - 0s 4ms/step - loss: 1.9857e-06 - accuracy: 1.0000\n"
          ]
        }
      ]
    },
    {
      "cell_type": "code",
      "source": [
        "model.save('/content/drive/MyDrive/AI/traffic_sign_cnn.h5')"
      ],
      "metadata": {
        "id": "82DO046elbu7"
      },
      "execution_count": 14,
      "outputs": []
    },
    {
      "cell_type": "code",
      "source": [],
      "metadata": {
        "id": "JCdz8S-ilwBT"
      },
      "execution_count": 14,
      "outputs": []
    }
  ]
}