{
  "nbformat": 4,
  "nbformat_minor": 0,
  "metadata": {
    "colab": {
      "provenance": [],
      "authorship_tag": "ABX9TyNPbhb3Q0LU2w8Rg7IgdqtD",
      "include_colab_link": true
    },
    "kernelspec": {
      "name": "python3",
      "display_name": "Python 3"
    },
    "language_info": {
      "name": "python"
    }
  },
  "cells": [
    {
      "cell_type": "markdown",
      "metadata": {
        "id": "view-in-github",
        "colab_type": "text"
      },
      "source": [
        "<a href=\"https://colab.research.google.com/github/baochuong/Articial-Intelligence-AI-/blob/main/ANN(crabs).ipynb\" target=\"_parent\"><img src=\"https://colab.research.google.com/assets/colab-badge.svg\" alt=\"Open In Colab\"/></a>"
      ]
    },
    {
      "cell_type": "code",
      "execution_count": 25,
      "metadata": {
        "id": "QN_md-e5-2RS"
      },
      "outputs": [],
      "source": [
        "from sklearn import datasets as dtset\n",
        "from sklearn.linear_model import Perceptron\n",
        "from sklearn.model_selection import train_test_split as tts\n",
        "from sklearn.metrics import accuracy_score\n",
        "from sklearn.preprocessing import StandardScaler\n",
        "from sklearn.linear_model import LinearRegression as LR\n",
        "\n",
        "\n",
        "import  numpy as np\n",
        "import matplotlib.pyplot as plt\n",
        "import pandas as pd\n",
        "import seaborn as sas    "
      ]
    },
    {
      "cell_type": "code",
      "source": [
        "data = pd.read_csv('crabs.csv')\n",
        "data.head()"
      ],
      "metadata": {
        "colab": {
          "base_uri": "https://localhost:8080/",
          "height": 206
        },
        "id": "cZNnraGf-34d",
        "outputId": "c366cfa3-4c15-4740-9ec2-ab5ee11b3d51"
      },
      "execution_count": 26,
      "outputs": [
        {
          "output_type": "execute_result",
          "data": {
            "text/plain": [
              "  speies sex  index  fontallip  rearwidth  length  width  depth\n",
              "0      B   M      1        8.1        6.7    16.1   19.0    7.0\n",
              "1      B   M      2        8.8        7.7    18.1   20.8    7.4\n",
              "2      B   M      3        9.2        7.8    19.0   22.4    7.7\n",
              "3      B   M      4        9.6        7.9    20.1   23.1    8.2\n",
              "4      B   M      5        9.8        8.0    20.3   23.0    8.2"
            ],
            "text/html": [
              "\n",
              "  <div id=\"df-2c969b97-296e-43ad-b7c8-df1a1d34c2d7\">\n",
              "    <div class=\"colab-df-container\">\n",
              "      <div>\n",
              "<style scoped>\n",
              "    .dataframe tbody tr th:only-of-type {\n",
              "        vertical-align: middle;\n",
              "    }\n",
              "\n",
              "    .dataframe tbody tr th {\n",
              "        vertical-align: top;\n",
              "    }\n",
              "\n",
              "    .dataframe thead th {\n",
              "        text-align: right;\n",
              "    }\n",
              "</style>\n",
              "<table border=\"1\" class=\"dataframe\">\n",
              "  <thead>\n",
              "    <tr style=\"text-align: right;\">\n",
              "      <th></th>\n",
              "      <th>speies</th>\n",
              "      <th>sex</th>\n",
              "      <th>index</th>\n",
              "      <th>fontallip</th>\n",
              "      <th>rearwidth</th>\n",
              "      <th>length</th>\n",
              "      <th>width</th>\n",
              "      <th>depth</th>\n",
              "    </tr>\n",
              "  </thead>\n",
              "  <tbody>\n",
              "    <tr>\n",
              "      <th>0</th>\n",
              "      <td>B</td>\n",
              "      <td>M</td>\n",
              "      <td>1</td>\n",
              "      <td>8.1</td>\n",
              "      <td>6.7</td>\n",
              "      <td>16.1</td>\n",
              "      <td>19.0</td>\n",
              "      <td>7.0</td>\n",
              "    </tr>\n",
              "    <tr>\n",
              "      <th>1</th>\n",
              "      <td>B</td>\n",
              "      <td>M</td>\n",
              "      <td>2</td>\n",
              "      <td>8.8</td>\n",
              "      <td>7.7</td>\n",
              "      <td>18.1</td>\n",
              "      <td>20.8</td>\n",
              "      <td>7.4</td>\n",
              "    </tr>\n",
              "    <tr>\n",
              "      <th>2</th>\n",
              "      <td>B</td>\n",
              "      <td>M</td>\n",
              "      <td>3</td>\n",
              "      <td>9.2</td>\n",
              "      <td>7.8</td>\n",
              "      <td>19.0</td>\n",
              "      <td>22.4</td>\n",
              "      <td>7.7</td>\n",
              "    </tr>\n",
              "    <tr>\n",
              "      <th>3</th>\n",
              "      <td>B</td>\n",
              "      <td>M</td>\n",
              "      <td>4</td>\n",
              "      <td>9.6</td>\n",
              "      <td>7.9</td>\n",
              "      <td>20.1</td>\n",
              "      <td>23.1</td>\n",
              "      <td>8.2</td>\n",
              "    </tr>\n",
              "    <tr>\n",
              "      <th>4</th>\n",
              "      <td>B</td>\n",
              "      <td>M</td>\n",
              "      <td>5</td>\n",
              "      <td>9.8</td>\n",
              "      <td>8.0</td>\n",
              "      <td>20.3</td>\n",
              "      <td>23.0</td>\n",
              "      <td>8.2</td>\n",
              "    </tr>\n",
              "  </tbody>\n",
              "</table>\n",
              "</div>\n",
              "      <button class=\"colab-df-convert\" onclick=\"convertToInteractive('df-2c969b97-296e-43ad-b7c8-df1a1d34c2d7')\"\n",
              "              title=\"Convert this dataframe to an interactive table.\"\n",
              "              style=\"display:none;\">\n",
              "        \n",
              "  <svg xmlns=\"http://www.w3.org/2000/svg\" height=\"24px\"viewBox=\"0 0 24 24\"\n",
              "       width=\"24px\">\n",
              "    <path d=\"M0 0h24v24H0V0z\" fill=\"none\"/>\n",
              "    <path d=\"M18.56 5.44l.94 2.06.94-2.06 2.06-.94-2.06-.94-.94-2.06-.94 2.06-2.06.94zm-11 1L8.5 8.5l.94-2.06 2.06-.94-2.06-.94L8.5 2.5l-.94 2.06-2.06.94zm10 10l.94 2.06.94-2.06 2.06-.94-2.06-.94-.94-2.06-.94 2.06-2.06.94z\"/><path d=\"M17.41 7.96l-1.37-1.37c-.4-.4-.92-.59-1.43-.59-.52 0-1.04.2-1.43.59L10.3 9.45l-7.72 7.72c-.78.78-.78 2.05 0 2.83L4 21.41c.39.39.9.59 1.41.59.51 0 1.02-.2 1.41-.59l7.78-7.78 2.81-2.81c.8-.78.8-2.07 0-2.86zM5.41 20L4 18.59l7.72-7.72 1.47 1.35L5.41 20z\"/>\n",
              "  </svg>\n",
              "      </button>\n",
              "      \n",
              "  <style>\n",
              "    .colab-df-container {\n",
              "      display:flex;\n",
              "      flex-wrap:wrap;\n",
              "      gap: 12px;\n",
              "    }\n",
              "\n",
              "    .colab-df-convert {\n",
              "      background-color: #E8F0FE;\n",
              "      border: none;\n",
              "      border-radius: 50%;\n",
              "      cursor: pointer;\n",
              "      display: none;\n",
              "      fill: #1967D2;\n",
              "      height: 32px;\n",
              "      padding: 0 0 0 0;\n",
              "      width: 32px;\n",
              "    }\n",
              "\n",
              "    .colab-df-convert:hover {\n",
              "      background-color: #E2EBFA;\n",
              "      box-shadow: 0px 1px 2px rgba(60, 64, 67, 0.3), 0px 1px 3px 1px rgba(60, 64, 67, 0.15);\n",
              "      fill: #174EA6;\n",
              "    }\n",
              "\n",
              "    [theme=dark] .colab-df-convert {\n",
              "      background-color: #3B4455;\n",
              "      fill: #D2E3FC;\n",
              "    }\n",
              "\n",
              "    [theme=dark] .colab-df-convert:hover {\n",
              "      background-color: #434B5C;\n",
              "      box-shadow: 0px 1px 3px 1px rgba(0, 0, 0, 0.15);\n",
              "      filter: drop-shadow(0px 1px 2px rgba(0, 0, 0, 0.3));\n",
              "      fill: #FFFFFF;\n",
              "    }\n",
              "  </style>\n",
              "\n",
              "      <script>\n",
              "        const buttonEl =\n",
              "          document.querySelector('#df-2c969b97-296e-43ad-b7c8-df1a1d34c2d7 button.colab-df-convert');\n",
              "        buttonEl.style.display =\n",
              "          google.colab.kernel.accessAllowed ? 'block' : 'none';\n",
              "\n",
              "        async function convertToInteractive(key) {\n",
              "          const element = document.querySelector('#df-2c969b97-296e-43ad-b7c8-df1a1d34c2d7');\n",
              "          const dataTable =\n",
              "            await google.colab.kernel.invokeFunction('convertToInteractive',\n",
              "                                                     [key], {});\n",
              "          if (!dataTable) return;\n",
              "\n",
              "          const docLinkHtml = 'Like what you see? Visit the ' +\n",
              "            '<a target=\"_blank\" href=https://colab.research.google.com/notebooks/data_table.ipynb>data table notebook</a>'\n",
              "            + ' to learn more about interactive tables.';\n",
              "          element.innerHTML = '';\n",
              "          dataTable['output_type'] = 'display_data';\n",
              "          await google.colab.output.renderOutput(dataTable, element);\n",
              "          const docLink = document.createElement('div');\n",
              "          docLink.innerHTML = docLinkHtml;\n",
              "          element.appendChild(docLink);\n",
              "        }\n",
              "      </script>\n",
              "    </div>\n",
              "  </div>\n",
              "  "
            ]
          },
          "metadata": {},
          "execution_count": 26
        }
      ]
    },
    {
      "cell_type": "code",
      "source": [
        "#clean data\n",
        "data = data.drop(data.columns[[2,3]], axis = 1)\n",
        "data = data.replace(\"M\",1)\n",
        "data = data.replace(\"F\",0)\n",
        "data.head()"
      ],
      "metadata": {
        "colab": {
          "base_uri": "https://localhost:8080/",
          "height": 206
        },
        "id": "PsAwonmD0Vn8",
        "outputId": "eaa7e37a-ee7a-4467-9edd-56dce3cfec47"
      },
      "execution_count": 27,
      "outputs": [
        {
          "output_type": "execute_result",
          "data": {
            "text/plain": [
              "  speies  sex  rearwidth  length  width  depth\n",
              "0      B    1        6.7    16.1   19.0    7.0\n",
              "1      B    1        7.7    18.1   20.8    7.4\n",
              "2      B    1        7.8    19.0   22.4    7.7\n",
              "3      B    1        7.9    20.1   23.1    8.2\n",
              "4      B    1        8.0    20.3   23.0    8.2"
            ],
            "text/html": [
              "\n",
              "  <div id=\"df-7490c976-b208-4f85-b5b5-25c5853a5ccd\">\n",
              "    <div class=\"colab-df-container\">\n",
              "      <div>\n",
              "<style scoped>\n",
              "    .dataframe tbody tr th:only-of-type {\n",
              "        vertical-align: middle;\n",
              "    }\n",
              "\n",
              "    .dataframe tbody tr th {\n",
              "        vertical-align: top;\n",
              "    }\n",
              "\n",
              "    .dataframe thead th {\n",
              "        text-align: right;\n",
              "    }\n",
              "</style>\n",
              "<table border=\"1\" class=\"dataframe\">\n",
              "  <thead>\n",
              "    <tr style=\"text-align: right;\">\n",
              "      <th></th>\n",
              "      <th>speies</th>\n",
              "      <th>sex</th>\n",
              "      <th>rearwidth</th>\n",
              "      <th>length</th>\n",
              "      <th>width</th>\n",
              "      <th>depth</th>\n",
              "    </tr>\n",
              "  </thead>\n",
              "  <tbody>\n",
              "    <tr>\n",
              "      <th>0</th>\n",
              "      <td>B</td>\n",
              "      <td>1</td>\n",
              "      <td>6.7</td>\n",
              "      <td>16.1</td>\n",
              "      <td>19.0</td>\n",
              "      <td>7.0</td>\n",
              "    </tr>\n",
              "    <tr>\n",
              "      <th>1</th>\n",
              "      <td>B</td>\n",
              "      <td>1</td>\n",
              "      <td>7.7</td>\n",
              "      <td>18.1</td>\n",
              "      <td>20.8</td>\n",
              "      <td>7.4</td>\n",
              "    </tr>\n",
              "    <tr>\n",
              "      <th>2</th>\n",
              "      <td>B</td>\n",
              "      <td>1</td>\n",
              "      <td>7.8</td>\n",
              "      <td>19.0</td>\n",
              "      <td>22.4</td>\n",
              "      <td>7.7</td>\n",
              "    </tr>\n",
              "    <tr>\n",
              "      <th>3</th>\n",
              "      <td>B</td>\n",
              "      <td>1</td>\n",
              "      <td>7.9</td>\n",
              "      <td>20.1</td>\n",
              "      <td>23.1</td>\n",
              "      <td>8.2</td>\n",
              "    </tr>\n",
              "    <tr>\n",
              "      <th>4</th>\n",
              "      <td>B</td>\n",
              "      <td>1</td>\n",
              "      <td>8.0</td>\n",
              "      <td>20.3</td>\n",
              "      <td>23.0</td>\n",
              "      <td>8.2</td>\n",
              "    </tr>\n",
              "  </tbody>\n",
              "</table>\n",
              "</div>\n",
              "      <button class=\"colab-df-convert\" onclick=\"convertToInteractive('df-7490c976-b208-4f85-b5b5-25c5853a5ccd')\"\n",
              "              title=\"Convert this dataframe to an interactive table.\"\n",
              "              style=\"display:none;\">\n",
              "        \n",
              "  <svg xmlns=\"http://www.w3.org/2000/svg\" height=\"24px\"viewBox=\"0 0 24 24\"\n",
              "       width=\"24px\">\n",
              "    <path d=\"M0 0h24v24H0V0z\" fill=\"none\"/>\n",
              "    <path d=\"M18.56 5.44l.94 2.06.94-2.06 2.06-.94-2.06-.94-.94-2.06-.94 2.06-2.06.94zm-11 1L8.5 8.5l.94-2.06 2.06-.94-2.06-.94L8.5 2.5l-.94 2.06-2.06.94zm10 10l.94 2.06.94-2.06 2.06-.94-2.06-.94-.94-2.06-.94 2.06-2.06.94z\"/><path d=\"M17.41 7.96l-1.37-1.37c-.4-.4-.92-.59-1.43-.59-.52 0-1.04.2-1.43.59L10.3 9.45l-7.72 7.72c-.78.78-.78 2.05 0 2.83L4 21.41c.39.39.9.59 1.41.59.51 0 1.02-.2 1.41-.59l7.78-7.78 2.81-2.81c.8-.78.8-2.07 0-2.86zM5.41 20L4 18.59l7.72-7.72 1.47 1.35L5.41 20z\"/>\n",
              "  </svg>\n",
              "      </button>\n",
              "      \n",
              "  <style>\n",
              "    .colab-df-container {\n",
              "      display:flex;\n",
              "      flex-wrap:wrap;\n",
              "      gap: 12px;\n",
              "    }\n",
              "\n",
              "    .colab-df-convert {\n",
              "      background-color: #E8F0FE;\n",
              "      border: none;\n",
              "      border-radius: 50%;\n",
              "      cursor: pointer;\n",
              "      display: none;\n",
              "      fill: #1967D2;\n",
              "      height: 32px;\n",
              "      padding: 0 0 0 0;\n",
              "      width: 32px;\n",
              "    }\n",
              "\n",
              "    .colab-df-convert:hover {\n",
              "      background-color: #E2EBFA;\n",
              "      box-shadow: 0px 1px 2px rgba(60, 64, 67, 0.3), 0px 1px 3px 1px rgba(60, 64, 67, 0.15);\n",
              "      fill: #174EA6;\n",
              "    }\n",
              "\n",
              "    [theme=dark] .colab-df-convert {\n",
              "      background-color: #3B4455;\n",
              "      fill: #D2E3FC;\n",
              "    }\n",
              "\n",
              "    [theme=dark] .colab-df-convert:hover {\n",
              "      background-color: #434B5C;\n",
              "      box-shadow: 0px 1px 3px 1px rgba(0, 0, 0, 0.15);\n",
              "      filter: drop-shadow(0px 1px 2px rgba(0, 0, 0, 0.3));\n",
              "      fill: #FFFFFF;\n",
              "    }\n",
              "  </style>\n",
              "\n",
              "      <script>\n",
              "        const buttonEl =\n",
              "          document.querySelector('#df-7490c976-b208-4f85-b5b5-25c5853a5ccd button.colab-df-convert');\n",
              "        buttonEl.style.display =\n",
              "          google.colab.kernel.accessAllowed ? 'block' : 'none';\n",
              "\n",
              "        async function convertToInteractive(key) {\n",
              "          const element = document.querySelector('#df-7490c976-b208-4f85-b5b5-25c5853a5ccd');\n",
              "          const dataTable =\n",
              "            await google.colab.kernel.invokeFunction('convertToInteractive',\n",
              "                                                     [key], {});\n",
              "          if (!dataTable) return;\n",
              "\n",
              "          const docLinkHtml = 'Like what you see? Visit the ' +\n",
              "            '<a target=\"_blank\" href=https://colab.research.google.com/notebooks/data_table.ipynb>data table notebook</a>'\n",
              "            + ' to learn more about interactive tables.';\n",
              "          element.innerHTML = '';\n",
              "          dataTable['output_type'] = 'display_data';\n",
              "          await google.colab.output.renderOutput(dataTable, element);\n",
              "          const docLink = document.createElement('div');\n",
              "          docLink.innerHTML = docLinkHtml;\n",
              "          element.appendChild(docLink);\n",
              "        }\n",
              "      </script>\n",
              "    </div>\n",
              "  </div>\n",
              "  "
            ]
          },
          "metadata": {},
          "execution_count": 27
        }
      ]
    },
    {
      "cell_type": "code",
      "source": [
        "corr = data.corr()\n",
        "sas.heatmap(corr,annot = True)"
      ],
      "metadata": {
        "colab": {
          "base_uri": "https://localhost:8080/",
          "height": 286
        },
        "id": "p2LNMAhQ1eO4",
        "outputId": "09abfa4e-472b-4192-9cea-1889465831ae"
      },
      "execution_count": 28,
      "outputs": [
        {
          "output_type": "execute_result",
          "data": {
            "text/plain": [
              "<Axes: >"
            ]
          },
          "metadata": {},
          "execution_count": 28
        },
        {
          "output_type": "display_data",
          "data": {
            "text/plain": [
              "<Figure size 432x288 with 2 Axes>"
            ],
            "image/png": "[encoded data removed]"
          },
          "metadata": {
            "needs_background": "light"
          }
        }
      ]
    },
    {
      "cell_type": "code",
      "source": [
        "data_B = data[data['speies'] != \"O\"]\n",
        "y_B = data_B['sex']\n",
        "X_B = data_B.drop(data.columns[[0,1]], axis = 1)\n",
        "print(X_B[:5])\n",
        "print(y_B[:5])"
      ],
      "metadata": {
        "colab": {
          "base_uri": "https://localhost:8080/"
        },
        "id": "knAMuh3W1faB",
        "outputId": "6ff7b059-4fce-499d-e904-99a1318c78dd"
      },
      "execution_count": 30,
      "outputs": [
        {
          "output_type": "stream",
          "name": "stdout",
          "text": [
            "   rearwidth  length  width  depth\n",
            "0        6.7    16.1   19.0    7.0\n",
            "1        7.7    18.1   20.8    7.4\n",
            "2        7.8    19.0   22.4    7.7\n",
            "3        7.9    20.1   23.1    8.2\n",
            "4        8.0    20.3   23.0    8.2\n",
            "0    1\n",
            "1    1\n",
            "2    1\n",
            "3    1\n",
            "4    1\n",
            "Name: sex, dtype: int64\n"
          ]
        }
      ]
    },
    {
      "cell_type": "code",
      "source": [
        "\n",
        "X_train,X_test,y_train,y_test = tts(X_B,y_B,test_size = 0.3)\n",
        "sc = StandardScaler()\n",
        "sc.fit(X_train)\n",
        "X_train_std = sc.transform(X_train)\n",
        "X_test_std = sc.transform(X_test)"
      ],
      "metadata": {
        "id": "-eeGyE7p1hp7"
      },
      "execution_count": 31,
      "outputs": []
    },
    {
      "cell_type": "code",
      "source": [
        "print(X_train[:5])\n",
        "print(y_train[:5])"
      ],
      "metadata": {
        "colab": {
          "base_uri": "https://localhost:8080/"
        },
        "id": "_SypT6Xq2BWa",
        "outputId": "07d9bf89-31fe-4373-a207-72c2ea794726"
      },
      "execution_count": 32,
      "outputs": [
        {
          "output_type": "stream",
          "name": "stdout",
          "text": [
            "    rearwidth  length  width  depth\n",
            "14       10.9    27.4   31.5   11.0\n",
            "74       11.5    27.6   32.6   11.1\n",
            "69       12.2    26.1   31.6   11.2\n",
            "2         7.8    19.0   22.4    7.7\n",
            "56        9.3    20.9   24.4    8.4\n",
            "14    1\n",
            "74    0\n",
            "69    0\n",
            "2     1\n",
            "56    0\n",
            "Name: sex, dtype: int64\n"
          ]
        }
      ]
    },
    {
      "cell_type": "code",
      "source": [
        "model_B = Perceptron(max_iter = 500, eta0 = 0.5, random_state = 0)\n",
        "model_B.fit(X_train_std,y_train)\n",
        "\n",
        "y_pred_model = model_B.predict(X_test_std)\n",
        "\n",
        "print(y_pred_model)\n",
        "print(y_test)\n",
        "print('Do chinh xac cau mo hinh: ', accuracy_score(y_test, y_pred_model))"
      ],
      "metadata": {
        "colab": {
          "base_uri": "https://localhost:8080/"
        },
        "id": "hQNOtgi02Dmz",
        "outputId": "ebc13344-9a0b-4c99-ce1e-acc33e8da3e4"
      },
      "execution_count": 33,
      "outputs": [
        {
          "output_type": "stream",
          "name": "stdout",
          "text": [
            "[0 1 0 1 0 0 1 0 0 0 0 0 1 0 0 0 1 1 1 0 0 1 1 1 1 1 0 0 1 1]\n",
            "85    0\n",
            "49    1\n",
            "9     1\n",
            "38    1\n",
            "58    0\n",
            "83    0\n",
            "47    1\n",
            "0     1\n",
            "52    0\n",
            "6     1\n",
            "50    0\n",
            "10    1\n",
            "92    0\n",
            "67    0\n",
            "78    0\n",
            "17    1\n",
            "44    1\n",
            "40    1\n",
            "21    1\n",
            "57    0\n",
            "81    0\n",
            "89    0\n",
            "46    1\n",
            "23    1\n",
            "99    0\n",
            "29    1\n",
            "5     1\n",
            "77    0\n",
            "13    1\n",
            "95    0\n",
            "Name: sex, dtype: int64\n",
            "Do chinh xac cau mo hinh:  0.6666666666666666\n"
          ]
        }
      ]
    },
    {
      "cell_type": "code",
      "source": [
        "regression = LR()\n",
        "regression.fit(X_train, y_train)\n",
        "y_pred = regression.predict(X_test).round(1)\n",
        "\n",
        "calculation = pd.DataFrame(np.c_[y_test, y_pred], columns = ['Original sex','Predicted sex'])\n",
        "print('Do chinh xac cua train:',regression.score(X_train, y_train))\n",
        "print('Do chinh xac cua test:',regression.score(X_test, y_test))"
      ],
      "metadata": {
        "colab": {
          "base_uri": "https://localhost:8080/"
        },
        "id": "F-9WxLOU2KTo",
        "outputId": "46163388-3be9-4b3f-f6fe-30c2158024b6"
      },
      "execution_count": 34,
      "outputs": [
        {
          "output_type": "stream",
          "name": "stdout",
          "text": [
            "Do chinh xac cua train: 0.7329396053670336\n",
            "Do chinh xac cua test: 0.5489698761881403\n"
          ]
        }
      ]
    },
    {
      "cell_type": "code",
      "source": [
        "data_O = data[data['speies'] != \"B\"]\n",
        "y_O = data_O['sex']\n",
        "X_O = data_O.drop(data.columns[[0,1]], axis = 1)\n",
        "print(X_O[:5])\n",
        "print(y_O[:5])"
      ],
      "metadata": {
        "colab": {
          "base_uri": "https://localhost:8080/"
        },
        "id": "I1mqOf9n2M4u",
        "outputId": "eaf3c353-41f0-4760-de33-a8e855861eb4"
      },
      "execution_count": 35,
      "outputs": [
        {
          "output_type": "stream",
          "name": "stdout",
          "text": [
            "     rearwidth  length  width  depth\n",
            "100        6.9    16.7   18.6    7.4\n",
            "101        8.2    20.2   22.2    9.0\n",
            "102        8.6    20.7   22.7    9.2\n",
            "103        9.0    22.7   24.8   10.1\n",
            "104        9.4    23.2   26.0   10.8\n",
            "100    1\n",
            "101    1\n",
            "102    1\n",
            "103    1\n",
            "104    1\n",
            "Name: sex, dtype: int64\n"
          ]
        }
      ]
    },
    {
      "cell_type": "code",
      "source": [
        "X_train_O,X_test_O,y_train_O,y_test_O = tts(X_O,y_O,test_size = 0.3)\n",
        "sc = StandardScaler()\n",
        "sc.fit(X_train_O)\n",
        "X_train_O_std = sc.transform(X_train_O)\n",
        "X_test_O_std = sc.transform(X_test_O)"
      ],
      "metadata": {
        "id": "t75WQUaX2Pon"
      },
      "execution_count": 36,
      "outputs": []
    },
    {
      "cell_type": "code",
      "source": [
        "print(X_train_O[:5])\n",
        "print(y_train_O[:5])"
      ],
      "metadata": {
        "colab": {
          "base_uri": "https://localhost:8080/"
        },
        "id": "43tSLoXX2R9t",
        "outputId": "7c9f0344-fa0c-49c3-ee97-7ea3a6ca9ebd"
      },
      "execution_count": 37,
      "outputs": [
        {
          "output_type": "stream",
          "name": "stdout",
          "text": [
            "     rearwidth  length  width  depth\n",
            "176       15.7    35.1   40.5   16.1\n",
            "100        6.9    16.7   18.6    7.4\n",
            "148       16.8    47.2   52.1   21.5\n",
            "194       18.4    43.8   48.4   20.0\n",
            "178       15.7    36.5   41.6   16.4\n",
            "176    0\n",
            "100    1\n",
            "148    1\n",
            "194    0\n",
            "178    0\n",
            "Name: sex, dtype: int64\n"
          ]
        }
      ]
    },
    {
      "cell_type": "code",
      "source": [
        "model_B = Perceptron(max_iter = 500, eta0 = 0.5, random_state = 0) \n",
        "model_B.fit(X_train_O_std,y_train_O)\n",
        "\n",
        "y_pred_model_O = model_B.predict(X_test_O_std)\n",
        "\n",
        "print(y_pred_model_O)\n",
        "print(y_test_O)\n",
        "print('Do chinh xac cau mo hinh: ', accuracy_score(y_test, y_pred_model_O))"
      ],
      "metadata": {
        "colab": {
          "base_uri": "https://localhost:8080/"
        },
        "id": "aeL-NEgj2Th4",
        "outputId": "381fc7b5-096d-40ed-e27d-45821c34f3ff"
      },
      "execution_count": 39,
      "outputs": [
        {
          "output_type": "stream",
          "name": "stdout",
          "text": [
            "[0 1 1 1 1 0 1 1 0 1 1 1 0 0 1 1 0 1 0 1 0 0 0 1 0 0 1 1 0 0]\n",
            "181    0\n",
            "127    1\n",
            "144    1\n",
            "114    1\n",
            "106    1\n",
            "172    0\n",
            "141    1\n",
            "119    1\n",
            "169    0\n",
            "108    1\n",
            "117    1\n",
            "135    1\n",
            "170    0\n",
            "184    0\n",
            "101    1\n",
            "131    1\n",
            "153    0\n",
            "103    1\n",
            "151    0\n",
            "133    1\n",
            "180    0\n",
            "177    0\n",
            "174    0\n",
            "113    1\n",
            "182    0\n",
            "166    0\n",
            "105    1\n",
            "116    1\n",
            "167    0\n",
            "183    0\n",
            "Name: sex, dtype: int64\n",
            "Do chinh xac cau mo hinh:  0.6666666666666666\n"
          ]
        }
      ]
    },
    {
      "cell_type": "code",
      "source": [
        "regression.fit(X_train_O, y_train_O)\n",
        "y_pred_O = regression.predict(X_test_O).round(1)\n",
        "\n",
        "calculation = pd.DataFrame(np.c_[y_test_O, y_pred_O], columns = ['Original sex','Predicted sex'])\n",
        "print('Do chinh xac cua train:',regression.score(X_train_O, y_train_O))\n",
        "print('Do chinh xac cua test:',regression.score(X_test_O, y_test_O))"
      ],
      "metadata": {
        "colab": {
          "base_uri": "https://localhost:8080/"
        },
        "id": "0slMdG3D2YFQ",
        "outputId": "3a2c6b94-c1d3-49bc-e090-cc79d3442fff"
      },
      "execution_count": 40,
      "outputs": [
        {
          "output_type": "stream",
          "name": "stdout",
          "text": [
            "Do chinh xac cua train: 0.81306000748364\n",
            "Do chinh xac cua test: 0.8245006397003429\n"
          ]
        }
      ]
    },
    {
      "cell_type": "code",
      "source": [],
      "metadata": {
        "id": "sa2QzLdx2q5L"
      },
      "execution_count": 41,
      "outputs": []
    }
  ]
}